{
 "cells": [
  {
   "cell_type": "markdown",
   "metadata": {},
   "source": [
    "# <b>CS156 (Introduction to AI), Spring 2021</b>\n",
    "### Implementation of gradient descent for quadratic fn f(x)=(3x^2)+2x-4"
   ]
  },
  {
   "cell_type": "markdown",
   "metadata": {},
   "source": [
    "##  <u>Solution</u>"
   ]
  },
  {
   "cell_type": "code",
   "execution_count": null,
   "metadata": {},
   "outputs": [],
   "source": [
    "import numpy as np\n",
    "np.random.seed(42)"
   ]
  },
  {
   "cell_type": "code",
   "execution_count": 9,
   "metadata": {
    "scrolled": false
   },
   "outputs": [
    {
     "name": "stdout",
     "output_type": "stream",
     "text": [
      "Iteration  0  x value:  -32.599999999999994\n",
      "Iteration  1  x value:  -13.239999999999995\n",
      "Iteration  2  x value:  -5.495999999999998\n",
      "Iteration  3  x value:  -2.398399999999999\n",
      "Iteration  4  x value:  -1.1593599999999995\n",
      "Iteration  5  x value:  -0.6637439999999998\n",
      "Iteration  6  x value:  -0.46549759999999996\n",
      "Iteration  7  x value:  -0.38619904\n",
      "Iteration  8  x value:  -0.354479616\n",
      "Iteration  9  x value:  -0.3417918464\n",
      "Iteration  10  x value:  -0.33671673856\n",
      "Iteration  11  x value:  -0.33468669542400004\n",
      "Iteration  12  x value:  -0.3338746781696\n",
      "Iteration  13  x value:  -0.33354987126784\n",
      "Iteration  14  x value:  -0.333419948507136\n",
      "Iteration  15  x value:  -0.3333679794028544\n",
      "Iteration  16  x value:  -0.33334719176114175\n",
      "Iteration  17  x value:  -0.33333887670445667\n",
      "Iteration  18  x value:  -0.33333555068178267\n",
      "Iteration  19  x value:  -0.3333342202727131\n",
      "Iteration  20  x value:  -0.33333368810908526\n",
      "Iteration  21  x value:  -0.3333334752436341\n",
      "Iteration  22  x value:  -0.33333339009745366\n",
      "Iteration  23  x value:  -0.33333335603898145\n",
      "Iteration  24  x value:  -0.3333333424155926\n",
      "Iteration  25  x value:  -0.33333333696623707\n",
      "Iteration  26  x value:  -0.3333333347864948\n",
      "Iteration  27  x value:  -0.3333333339145979\n",
      "Iteration  28  x value:  -0.33333333356583916\n",
      "Iteration  29  x value:  -0.33333333342633564\n",
      "Iteration  30  x value:  -0.3333333333705342\n",
      "Iteration  31  x value:  -0.3333333333482137\n",
      "Iteration  32  x value:  -0.33333333333928544\n",
      "Iteration  33  x value:  -0.3333333333357142\n",
      "Iteration  34  x value:  -0.33333333333428566\n",
      "Iteration  35  x value:  -0.33333333333371423\n",
      "Iteration  36  x value:  -0.3333333333334857\n",
      "Iteration  37  x value:  -0.3333333333333943\n",
      "Iteration  38  x value:  -0.33333333333335774\n",
      "Iteration  39  x value:  -0.3333333333333431\n",
      "Iteration  40  x value:  -0.3333333333333372\n",
      "Iteration  41  x value:  -0.33333333333333487\n",
      "Iteration  42  x value:  -0.3333333333333339\n",
      "Iteration  43  x value:  -0.3333333333333336\n",
      "Iteration  44  x value:  -0.3333333333333334\n",
      "Iteration  45  x value:  -0.33333333333333337\n",
      "Iteration  46  x value:  -0.33333333333333337\n",
      "Iteration  47  x value:  -0.33333333333333337\n",
      "Iteration  48  x value:  -0.33333333333333337\n",
      "Iteration  49  x value:  -0.33333333333333337\n",
      "Iteration  50  x value:  -0.33333333333333337\n",
      "Iteration  51  x value:  -0.33333333333333337\n",
      "Iteration  52  x value:  -0.33333333333333337\n",
      "Iteration  53  x value:  -0.33333333333333337\n",
      "Iteration  54  x value:  -0.33333333333333337\n",
      "Iteration  55  x value:  -0.33333333333333337\n",
      "Iteration  56  x value:  -0.33333333333333337\n",
      "Iteration  57  x value:  -0.33333333333333337\n",
      "Iteration  58  x value:  -0.33333333333333337\n",
      "Iteration  59  x value:  -0.33333333333333337\n",
      "Iteration  60  x value:  -0.33333333333333337\n",
      "Iteration  61  x value:  -0.33333333333333337\n",
      "Iteration  62  x value:  -0.33333333333333337\n",
      "Iteration  63  x value:  -0.33333333333333337\n",
      "Iteration  64  x value:  -0.33333333333333337\n",
      "Iteration  65  x value:  -0.33333333333333337\n",
      "Iteration  66  x value:  -0.33333333333333337\n",
      "Iteration  67  x value:  -0.33333333333333337\n",
      "Iteration  68  x value:  -0.33333333333333337\n",
      "Iteration  69  x value:  -0.33333333333333337\n",
      "Iteration  70  x value:  -0.33333333333333337\n",
      "Iteration  71  x value:  -0.33333333333333337\n",
      "Iteration  72  x value:  -0.33333333333333337\n",
      "Iteration  73  x value:  -0.33333333333333337\n",
      "Iteration  74  x value:  -0.33333333333333337\n",
      "Iteration  75  x value:  -0.33333333333333337\n",
      "Iteration  76  x value:  -0.33333333333333337\n",
      "Iteration  77  x value:  -0.33333333333333337\n",
      "Iteration  78  x value:  -0.33333333333333337\n",
      "Iteration  79  x value:  -0.33333333333333337\n",
      "Iteration  80  x value:  -0.33333333333333337\n",
      "Iteration  81  x value:  -0.33333333333333337\n",
      "Iteration  82  x value:  -0.33333333333333337\n",
      "Iteration  83  x value:  -0.33333333333333337\n",
      "Iteration  84  x value:  -0.33333333333333337\n",
      "Iteration  85  x value:  -0.33333333333333337\n",
      "Iteration  86  x value:  -0.33333333333333337\n",
      "Iteration  87  x value:  -0.33333333333333337\n",
      "Iteration  88  x value:  -0.33333333333333337\n",
      "Iteration  89  x value:  -0.33333333333333337\n",
      "Iteration  90  x value:  -0.33333333333333337\n",
      "Iteration  91  x value:  -0.33333333333333337\n",
      "Iteration  92  x value:  -0.33333333333333337\n",
      "Iteration  93  x value:  -0.33333333333333337\n",
      "Iteration  94  x value:  -0.33333333333333337\n",
      "Iteration  95  x value:  -0.33333333333333337\n",
      "Iteration  96  x value:  -0.33333333333333337\n",
      "Iteration  97  x value:  -0.33333333333333337\n",
      "Iteration  98  x value:  -0.33333333333333337\n",
      "Iteration  99  x value:  -0.33333333333333337\n",
      "Local Minimum occurs at x =  -0.33333333333333337\n"
     ]
    }
   ],
   "source": [
    "import random\n",
    "\n",
    "x1 = random.randrange(-100,100)\n",
    "learning_rate = 0.1\n",
    "num_iterations = 100\n",
    "derivative = lambda x: (6*x) + 2\n",
    "\n",
    "for i in range(0, num_iterations) :\n",
    "    x0 = x1\n",
    "    x1 = x1-(learning_rate*(derivative(x0)))\n",
    "    print(\"Iteration \", i, \" x value: \", x1)\n",
    "print(\"Local Minimum occurs at x = \", x1)\n"
   ]
  }
 ],
 "metadata": {
  "kernelspec": {
   "display_name": "Python 3",
   "language": "python",
   "name": "python3"
  },
  "language_info": {
   "codemirror_mode": {
    "name": "ipython",
    "version": 3
   },
   "file_extension": ".py",
   "mimetype": "text/x-python",
   "name": "python",
   "nbconvert_exporter": "python",
   "pygments_lexer": "ipython3",
   "version": "3.8.5"
  }
 },
 "nbformat": 4,
 "nbformat_minor": 4
}
